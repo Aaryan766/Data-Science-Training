{
 "cells": [
  {
   "cell_type": "markdown",
   "id": "126a5306-36a8-41ea-8204-b3600e5ad992",
   "metadata": {},
   "source": [
    "Inheritance\n"
   ]
  },
  {
   "cell_type": "code",
   "execution_count": 1,
   "id": "305f4b08-75cd-4299-a713-625b030153c6",
   "metadata": {},
   "outputs": [],
   "source": [
    "# Simple Inheritance (single)\n",
    "# Mutliple Inheritance\n",
    "# Multi-level Inheritance\n",
    "# Hybrid Inheritance"
   ]
  },
  {
   "cell_type": "code",
   "execution_count": 6,
   "id": "d214cd7d-21f4-481d-ae9a-eca9a02c8b70",
   "metadata": {},
   "outputs": [],
   "source": [
    "class BMW:     # Parent Class, Main CLass, Super Class\n",
    "\n",
    "    def super_turbo_engine(self):\n",
    "        print('super_turbo_engine Fast Speed')\n",
    "\n",
    "class AUDI(BMW): # Child Class, Sub Class, Base Class\n",
    "\n",
    "    def auto_pilot(self):\n",
    "        print('Can run on Auto pilot mode')"
   ]
  },
  {
   "cell_type": "code",
   "execution_count": 7,
   "id": "0cf45d0a-1836-4fad-a0cf-46fc587748fe",
   "metadata": {},
   "outputs": [],
   "source": [
    "audi_r8 = AUDI()"
   ]
  },
  {
   "cell_type": "code",
   "execution_count": 5,
   "id": "7534a7c1-51d4-4572-a574-38c38690c2c5",
   "metadata": {},
   "outputs": [
    {
     "name": "stdout",
     "output_type": "stream",
     "text": [
      "Can run on Auto pilot mode\n"
     ]
    }
   ],
   "source": [
    "audi_r8.auto_pilot()"
   ]
  },
  {
   "cell_type": "code",
   "execution_count": 8,
   "id": "272bc794-4b4f-4113-937c-a020cd9d46f1",
   "metadata": {},
   "outputs": [
    {
     "name": "stdout",
     "output_type": "stream",
     "text": [
      "super_turbo_engine Fast Speed\n"
     ]
    }
   ],
   "source": [
    "audi_r8.super_turbo_engine()"
   ]
  },
  {
   "cell_type": "markdown",
   "id": "a8ade341-e667-4697-a996-913f4d2efad5",
   "metadata": {},
   "source": [
    "Multiple Inheritance:"
   ]
  },
  {
   "cell_type": "code",
   "execution_count": 46,
   "id": "ea019b5a-2668-472e-b596-e952a81a24df",
   "metadata": {},
   "outputs": [],
   "source": [
    "class Mobile:\n",
    "    ...\n",
    "\n",
    "class Daily_Object:\n",
    "    def Phone_Case(self):\n",
    "        print('Builds a strong PHone Case')\n",
    "\n",
    "class JBL:\n",
    "    def sonic_speakers(self):\n",
    "        print('High Quality sound speakers ')\n",
    "\n",
    "class Samsung:\n",
    "    def screen_display(self):\n",
    "        print('4k HD Display')\n",
    "        \n",
    "        \n",
    "class NVIDIA:\n",
    "    def Mother_board(self):\n",
    "        print('FAst MOther Board')\n",
    "        \n",
    "class Sony:\n",
    "    def Camera(self):\n",
    "        print('4k Camera')\n",
    "\n",
    "class Lava:\n",
    "    def charger(self):\n",
    "        print('Super Fast Charger')\n",
    "\n",
    "class OnePlus:\n",
    "    def charger(self):\n",
    "        print('Original Fast Charger!!')\n",
    "\n",
    "class Mobile(Daily_Object,JBL,Samsung,NVIDIA,Sony,OnePlus,Lava):\n",
    "    def __init__(self):\n",
    "        print('Phone Object Created Successfully!!!')\n",
    "\n",
    "    def charger(self):\n",
    "        print('Actual Charger from Mobile')    \n",
    "\n",
    "    \n",
    "        \n"
   ]
  },
  {
   "cell_type": "code",
   "execution_count": 47,
   "id": "2d6c9f7a-fdf9-4e5b-9d7d-48ca61d38f7c",
   "metadata": {},
   "outputs": [
    {
     "name": "stdout",
     "output_type": "stream",
     "text": [
      "Phone Object Created Successfully!!!\n"
     ]
    }
   ],
   "source": [
    "nothing = Mobile()"
   ]
  },
  {
   "cell_type": "code",
   "execution_count": 12,
   "id": "a7c08bfe-63d0-4223-ae26-4d3b08ce29ef",
   "metadata": {},
   "outputs": [
    {
     "name": "stdout",
     "output_type": "stream",
     "text": [
      "4k Camera\n"
     ]
    }
   ],
   "source": [
    "nothing.Camera()\n"
   ]
  },
  {
   "cell_type": "code",
   "execution_count": 14,
   "id": "cc63fa18-9483-481b-a48c-92a15bc07c25",
   "metadata": {},
   "outputs": [
    {
     "name": "stdout",
     "output_type": "stream",
     "text": [
      "Super Fast Charger\n"
     ]
    }
   ],
   "source": [
    "nothing.Charger()"
   ]
  },
  {
   "cell_type": "code",
   "execution_count": 15,
   "id": "9405fddb-a61a-4945-9748-9099b86542b2",
   "metadata": {},
   "outputs": [
    {
     "name": "stdout",
     "output_type": "stream",
     "text": [
      "4k HD Display\n"
     ]
    }
   ],
   "source": [
    "nothing.screen_display()"
   ]
  },
  {
   "cell_type": "code",
   "execution_count": 42,
   "id": "79e7bf90-3018-47e8-854d-9a448b625b28",
   "metadata": {},
   "outputs": [
    {
     "name": "stdout",
     "output_type": "stream",
     "text": [
      "Super Fast Charger\n"
     ]
    }
   ],
   "source": [
    "nothing.charger() # when written Lava,OnePlus while inheriting in class Mobile wghile inheriting"
   ]
  },
  {
   "cell_type": "code",
   "execution_count": 45,
   "id": "cc72bfbb-92de-4c29-bbdb-0e79bd21b850",
   "metadata": {},
   "outputs": [
    {
     "name": "stdout",
     "output_type": "stream",
     "text": [
      "Original Fast Charger!!\n"
     ]
    }
   ],
   "source": [
    "nothing.charger() # when written OnePlus,Lava while inheriting in class Mobile while inheriting"
   ]
  },
  {
   "cell_type": "code",
   "execution_count": 48,
   "id": "989a124d-c2d9-4d22-9cee-d25b00bbb698",
   "metadata": {},
   "outputs": [
    {
     "name": "stdout",
     "output_type": "stream",
     "text": [
      "Actual Charger from Mobile\n"
     ]
    }
   ],
   "source": [
    "nothing.charger()  # it gave preference to the charger function present in the Mobile class "
   ]
  },
  {
   "cell_type": "markdown",
   "id": "65cc0c6f-0e34-4f09-86f6-54d32473f8e2",
   "metadata": {},
   "source": [
    "Multi-Level Inheritance: "
   ]
  },
  {
   "cell_type": "code",
   "execution_count": 54,
   "id": "5953e33d-33b6-4086-8ab6-73f1b4301f66",
   "metadata": {},
   "outputs": [],
   "source": [
    "class GrandFather:\n",
    "    def land_property(self):\n",
    "        print('Land Property!!!')\n",
    "\n",
    "class Father(GrandFather):\n",
    "    def bank_balance(self):\n",
    "        print('Big Money Player, Huge Bank Balance!!!')\n",
    "\n",
    "class Son(Father):\n",
    "    def political_power(self):\n",
    "        print('Political Powers!!!')\n",
    "\n",
    "class GrandSon(Son):\n",
    "    def mind(self):\n",
    "        print('Mind for Self Study!!!')\n",
    "\n",
    "class Friend(GrandSon):\n",
    "    def __init__(self):\n",
    "        print('Nothing!!!')"
   ]
  },
  {
   "cell_type": "code",
   "execution_count": 55,
   "id": "7c228fd9-6c38-4dab-963b-0c0323b483e6",
   "metadata": {},
   "outputs": [
    {
     "name": "stdout",
     "output_type": "stream",
     "text": [
      "Done\n"
     ]
    }
   ],
   "source": [
    "aman = GrandSon()\n",
    "print('Done')"
   ]
  },
  {
   "cell_type": "code",
   "execution_count": 56,
   "id": "7e75d11a-e1fc-48c4-a80f-9ab0866cc567",
   "metadata": {},
   "outputs": [
    {
     "name": "stdout",
     "output_type": "stream",
     "text": [
      "Big Money Player, Huge Bank Balance!!!\n"
     ]
    }
   ],
   "source": [
    "aman.bank_balance()"
   ]
  },
  {
   "cell_type": "code",
   "execution_count": 57,
   "id": "4ee00252-51db-477d-a62a-e19a74422974",
   "metadata": {},
   "outputs": [
    {
     "name": "stdout",
     "output_type": "stream",
     "text": [
      "Land Property!!!\n"
     ]
    }
   ],
   "source": [
    "aman.land_property()"
   ]
  },
  {
   "cell_type": "code",
   "execution_count": 58,
   "id": "e705bfb5-5d9f-4294-9082-095c30dd7444",
   "metadata": {},
   "outputs": [
    {
     "name": "stdout",
     "output_type": "stream",
     "text": [
      "Nothing!!!\n",
      "Done\n"
     ]
    }
   ],
   "source": [
    "karan = Friend()\n",
    "print('Done')"
   ]
  },
  {
   "cell_type": "code",
   "execution_count": 59,
   "id": "75c6cdcc-3a4e-4fbf-93f4-42234f4a16ce",
   "metadata": {},
   "outputs": [],
   "source": [
    "class Hybrid(Mobile,Friend,AUDI): # Mobile - Multiple ; Friend - Multi-level ; AUDI - Single\n",
    "    def __init__(self):\n",
    "        print('This is a Hybrid class')\n",
    "\n",
    "    def info (self):\n",
    "        print('It can call any methods!!!')"
   ]
  },
  {
   "cell_type": "code",
   "execution_count": 60,
   "id": "f16cd6e1-4076-42d1-8e60-3e0c73c3de20",
   "metadata": {},
   "outputs": [
    {
     "name": "stdout",
     "output_type": "stream",
     "text": [
      "This is a Hybrid class\n"
     ]
    }
   ],
   "source": [
    "ob = Hybrid()"
   ]
  },
  {
   "cell_type": "code",
   "execution_count": 61,
   "id": "95543343-0c7e-435a-bd24-523417822c1b",
   "metadata": {},
   "outputs": [
    {
     "name": "stdout",
     "output_type": "stream",
     "text": [
      "It can call any methods!!!\n"
     ]
    }
   ],
   "source": [
    "ob.info()"
   ]
  },
  {
   "cell_type": "markdown",
   "id": "eb94ee85-2ba8-482f-9e32-feb55d312949",
   "metadata": {},
   "source": [
    "Heirarchial Inheritance:"
   ]
  },
  {
   "cell_type": "code",
   "execution_count": null,
   "id": "06bfc474-3862-4ece-85a4-b4944af5095a",
   "metadata": {},
   "outputs": [],
   "source": [
    "class UGC:\n",
    "    def __init__(self):\n",
    "        print('Grant Perminssion')\n",
    "\n",
    "    def college_approved(self):\n",
    "        print('College has been approved')\n",
    "\n",
    "class DU(UGC):\n",
    "    def multiple_colleges(self):\n",
    "        print('List of Colleges!!!')\n",
    "\n",
    "class IP(UGC):\n",
    "    def multiple_colleges(self):\n",
    "        print('List of Colleges!!!')\n",
    "\n",
    "class DTU(UGC):\n",
    "    def multiple_colleges(self):\n",
    "        print('List of Colleges!!!')\n",
    "\n",
    "class BHU(UGC):\n",
    "    def multiple_colleges(self):\n",
    "        print('List of Colleges!!!')\n",
    "\n"
   ]
  },
  {
   "cell_type": "markdown",
   "id": "3713da25-f235-4aff-98f9-ccfaa58b3c6f",
   "metadata": {},
   "source": [
    "POLYMORPHISM : "
   ]
  },
  {
   "cell_type": "code",
   "execution_count": 69,
   "id": "ba2b2ce7-5339-46f6-b170-4d0b6670b27f",
   "metadata": {},
   "outputs": [],
   "source": [
    "# polymorphism can be performed using: overloading and overriding"
   ]
  },
  {
   "cell_type": "code",
   "execution_count": 84,
   "id": "50960c80-4013-4714-8498-ee976fb9ce89",
   "metadata": {},
   "outputs": [
    {
     "name": "stdout",
     "output_type": "stream",
     "text": [
      "F1 Car Speed:  Max Speed is 200km/hr\n",
      "F1 Car Speed:  Max Speed is 250km/hr\n",
      "F1 Car Speed:  Max Speed is 300km/hr\n"
     ]
    }
   ],
   "source": [
    "# Method Overriding: \n",
    "class Car:\n",
    "    def speed(self):\n",
    "        return('Max Speed is 200km/hr')\n",
    "\n",
    "    def auto_pilot(self):\n",
    "        return('It supports auto-pilot mode!!!')\n",
    "\n",
    "    def info(self):\n",
    "        return('This is just a car object')\n",
    "\n",
    "class BMW(Car):\n",
    "    def speed(self):\n",
    "        return('Max Speed is 250km/hr')\n",
    "\n",
    "    def info(self):\n",
    "        return('A BMW car object')\n",
    "\n",
    "class AUDI(Car):\n",
    "    def speed(self):\n",
    "        return('Max Speed is 300km/hr')\n",
    "\n",
    "    def info(self):\n",
    "        return('AUDI car  ')\n",
    "\n",
    "\n",
    "for i in [Car,BMW,AUDI]:\n",
    "    f1 = i()\n",
    "    print('F1 Car Speed: ',f1.speed())\n",
    "    "
   ]
  },
  {
   "cell_type": "code",
   "execution_count": 85,
   "id": "84e575d1-a33b-4eda-b5e6-a435cc91d70e",
   "metadata": {},
   "outputs": [
    {
     "name": "stdout",
     "output_type": "stream",
     "text": [
      "Max Speed is 300km/hr\n"
     ]
    }
   ],
   "source": [
    "f1 = AUDI()\n",
    "print(f1.speed())"
   ]
  },
  {
   "cell_type": "code",
   "execution_count": 86,
   "id": "429462b8-cf58-460c-a3aa-94e64a0f5beb",
   "metadata": {},
   "outputs": [
    {
     "name": "stdout",
     "output_type": "stream",
     "text": [
      "Max Speed is 250km/hr\n"
     ]
    }
   ],
   "source": [
    "f1 = BMW()\n",
    "print(f1.speed())\n"
   ]
  },
  {
   "cell_type": "code",
   "execution_count": 93,
   "id": "1332f80d-5e35-464a-bcb2-293603b55b6e",
   "metadata": {},
   "outputs": [
    {
     "name": "stdout",
     "output_type": "stream",
     "text": [
      "Hello Aaryan, how are you??\n",
      "Your Address is : New Delhi\n"
     ]
    }
   ],
   "source": [
    "# Method Overloading:\n",
    "class IITM:\n",
    "    \n",
    "    def intro(self):\n",
    "        print('Hello Candidates!!!')\n",
    "\n",
    "    def intro(self,name):\n",
    "        print(f'Hello {name}, how are you??')\n",
    "        \n",
    "    def intro(self,name,address):\n",
    "        print(f'Hello {name}, how are you??')\n",
    "        print(f'Your Address is : {address}')\n",
    "\n",
    "a = IITM()\n",
    "a.intro('Aaryan','New Delhi')"
   ]
  },
  {
   "cell_type": "code",
   "execution_count": 118,
   "id": "60ebd3f4-ab52-4771-b0e0-79f1617ddcc0",
   "metadata": {},
   "outputs": [],
   "source": [
    "class IITM:\n",
    "    def intro(self,name = None,address = None):\n",
    "        if (name == None) and (address == None):\n",
    "            print('Hello Candidates!!!')\n",
    "\n",
    "        elif (name != None) and (address == None): \n",
    "            print(f'Hello {name}, How are you?')\n",
    "\n",
    "        elif (name != None) and (address != None):\n",
    "            print(f'Hello {name}, how are you ??')\n",
    "            print(f'Your address is : {address}')\n",
    "\n",
    "        else:\n",
    "            print('Hello Buddy!!!')\n",
    "        "
   ]
  },
  {
   "cell_type": "code",
   "execution_count": 119,
   "id": "6b85a481-43e3-4a71-b588-3e2c0e41bede",
   "metadata": {},
   "outputs": [],
   "source": [
    "a = IITM()"
   ]
  },
  {
   "cell_type": "code",
   "execution_count": 120,
   "id": "411148f3-fc41-442f-85ca-8806a366c9e3",
   "metadata": {},
   "outputs": [
    {
     "name": "stdout",
     "output_type": "stream",
     "text": [
      "Hello Candidates!!!\n"
     ]
    }
   ],
   "source": [
    "a.intro()"
   ]
  },
  {
   "cell_type": "code",
   "execution_count": 121,
   "id": "8014b63d-765e-47e0-864d-5e17e9a0a906",
   "metadata": {},
   "outputs": [
    {
     "name": "stdout",
     "output_type": "stream",
     "text": [
      "Hello Aaryan, How are you?\n"
     ]
    }
   ],
   "source": [
    "a.intro('Aaryan')"
   ]
  },
  {
   "cell_type": "code",
   "execution_count": 122,
   "id": "9aa847ff-febb-413c-a2e2-4e24ebe9d1e4",
   "metadata": {},
   "outputs": [
    {
     "name": "stdout",
     "output_type": "stream",
     "text": [
      "Hello Aaryan, how are you ??\n",
      "Your address is : New Delhi\n"
     ]
    }
   ],
   "source": [
    "a.intro('Aaryan','New Delhi')"
   ]
  },
  {
   "cell_type": "code",
   "execution_count": 123,
   "id": "df3ab9fa-7cc5-4c80-bb4f-12bfb41a99d6",
   "metadata": {},
   "outputs": [
    {
     "name": "stdout",
     "output_type": "stream",
     "text": [
      "Hello Buddy!!!\n"
     ]
    }
   ],
   "source": [
    "a.intro(address = 'Noida')"
   ]
  },
  {
   "cell_type": "markdown",
   "id": "8faa5026-79be-41dc-a774-7ca5fcca50d2",
   "metadata": {},
   "source": [
    "Abstract meaning :\n",
    "Idea \n",
    "Not a physical Object"
   ]
  },
  {
   "cell_type": "code",
   "execution_count": 125,
   "id": "ec9e426e-097c-419d-a78d-f61b50292b0e",
   "metadata": {},
   "outputs": [],
   "source": [
    "# Abstraction is used in Project Management "
   ]
  },
  {
   "cell_type": "code",
   "execution_count": 130,
   "id": "96ca3751-6ac4-495c-9c26-f13d7918ac9f",
   "metadata": {},
   "outputs": [
    {
     "ename": "TypeError",
     "evalue": "Can't instantiate abstract class Website without an implementation for abstract methods 'login', 'logout'",
     "output_type": "error",
     "traceback": [
      "\u001b[1;31m---------------------------------------------------------------------------\u001b[0m",
      "\u001b[1;31mTypeError\u001b[0m                                 Traceback (most recent call last)",
      "Cell \u001b[1;32mIn[130], line 13\u001b[0m\n\u001b[0;32m      9\u001b[0m     \u001b[38;5;129m@abstractmethod\u001b[39m\n\u001b[0;32m     10\u001b[0m     \u001b[38;5;28;01mdef\u001b[39;00m\u001b[38;5;250m \u001b[39m\u001b[38;5;21mlogout\u001b[39m(\u001b[38;5;28mself\u001b[39m):\n\u001b[0;32m     11\u001b[0m         \u001b[38;5;28mprint\u001b[39m(\u001b[38;5;124m'\u001b[39m\u001b[38;5;124mThis is a logout method\u001b[39m\u001b[38;5;124m'\u001b[39m)\n\u001b[1;32m---> 13\u001b[0m asus \u001b[38;5;241m=\u001b[39m Website()\n\u001b[0;32m     14\u001b[0m \u001b[38;5;28mprint\u001b[39m(\u001b[38;5;124m'\u001b[39m\u001b[38;5;124mDone\u001b[39m\u001b[38;5;124m'\u001b[39m)\n",
      "\u001b[1;31mTypeError\u001b[0m: Can't instantiate abstract class Website without an implementation for abstract methods 'login', 'logout'"
     ]
    }
   ],
   "source": [
    "from abc import ABC, abstractmethod\n",
    "\n",
    "class Website(ABC):\n",
    "\n",
    "    @abstractmethod\n",
    "    def login(self):\n",
    "        print('This is a login method')\n",
    "\n",
    "    @abstractmethod\n",
    "    def logout(self):\n",
    "        print('This is a logout method')\n",
    "\n",
    "asus = Website()\n",
    "print('Done')"
   ]
  },
  {
   "cell_type": "code",
   "execution_count": 143,
   "id": "bf64e812-5b90-41cf-b3a7-5876e99e7c67",
   "metadata": {},
   "outputs": [],
   "source": [
    "class Nakul(Website):\n",
    "\n",
    "    def signup(self):\n",
    "        print('User can signup!!!!')\n",
    "\n",
    "    def login(self):\n",
    "        print('This is a login form')\n",
    "\n",
    "    def logout(self):\n",
    "        print('User can logout ')\n",
    "\n",
    "google = Nakul()"
   ]
  },
  {
   "cell_type": "code",
   "execution_count": 144,
   "id": "8928eb70-1cb0-4199-9d5b-c41eef6f0120",
   "metadata": {},
   "outputs": [
    {
     "ename": "TypeError",
     "evalue": "Can't instantiate abstract class Nakul without an implementation for abstract method 'logout'",
     "output_type": "error",
     "traceback": [
      "\u001b[1;31m---------------------------------------------------------------------------\u001b[0m",
      "\u001b[1;31mTypeError\u001b[0m                                 Traceback (most recent call last)",
      "Cell \u001b[1;32mIn[144], line 10\u001b[0m\n\u001b[0;32m      6\u001b[0m     \u001b[38;5;28;01mdef\u001b[39;00m\u001b[38;5;250m \u001b[39m\u001b[38;5;21mlogin\u001b[39m(\u001b[38;5;28mself\u001b[39m):\n\u001b[0;32m      7\u001b[0m         \u001b[38;5;28mprint\u001b[39m(\u001b[38;5;124m'\u001b[39m\u001b[38;5;124mThis is a login form\u001b[39m\u001b[38;5;124m'\u001b[39m)\n\u001b[1;32m---> 10\u001b[0m google \u001b[38;5;241m=\u001b[39m Nakul()\n",
      "\u001b[1;31mTypeError\u001b[0m: Can't instantiate abstract class Nakul without an implementation for abstract method 'logout'"
     ]
    }
   ],
   "source": [
    "class Nakul(Website):\n",
    "\n",
    "    def signup(self):\n",
    "        print('User can signup!!!!')\n",
    "\n",
    "    def login(self):\n",
    "        print('This is a login form')\n",
    "\n",
    "   \n",
    "google = Nakul()"
   ]
  },
  {
   "cell_type": "code",
   "execution_count": 138,
   "id": "0d4c00f4-dc26-4e8a-933f-158602153cab",
   "metadata": {},
   "outputs": [
    {
     "name": "stdout",
     "output_type": "stream",
     "text": [
      "This is a login form\n"
     ]
    }
   ],
   "source": [
    "google.login()"
   ]
  },
  {
   "cell_type": "code",
   "execution_count": 139,
   "id": "59b6e32c-deba-44f6-b9cf-379469c39306",
   "metadata": {},
   "outputs": [
    {
     "name": "stdout",
     "output_type": "stream",
     "text": [
      "User can signup!!!!\n"
     ]
    }
   ],
   "source": [
    "google.signup()\n"
   ]
  },
  {
   "cell_type": "code",
   "execution_count": 141,
   "id": "11d0dd98-4f03-4b8b-8e6b-e4c233356758",
   "metadata": {},
   "outputs": [
    {
     "name": "stdout",
     "output_type": "stream",
     "text": [
      "User can logout \n"
     ]
    }
   ],
   "source": [
    "google.logout()"
   ]
  },
  {
   "cell_type": "code",
   "execution_count": null,
   "id": "ba9207f0-c39a-41c5-b195-1dbd738318a8",
   "metadata": {},
   "outputs": [],
   "source": []
  }
 ],
 "metadata": {
  "kernelspec": {
   "display_name": "Python 3 (ipykernel)",
   "language": "python",
   "name": "python3"
  },
  "language_info": {
   "codemirror_mode": {
    "name": "ipython",
    "version": 3
   },
   "file_extension": ".py",
   "mimetype": "text/x-python",
   "name": "python",
   "nbconvert_exporter": "python",
   "pygments_lexer": "ipython3",
   "version": "3.13.5"
  }
 },
 "nbformat": 4,
 "nbformat_minor": 5
}
