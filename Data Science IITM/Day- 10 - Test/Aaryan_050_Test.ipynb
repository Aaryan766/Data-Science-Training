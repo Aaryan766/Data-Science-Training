{
 "cells": [
  {
   "cell_type": "markdown",
   "id": "ad1d59b7-4c4d-4a56-b096-c14da4d10341",
   "metadata": {},
   "source": [
    "Answer- 1: \n",
    "\n",
    "List: list is a mutable datra type.\n",
    "\n",
    "Example: \n",
    "a= [1,2,3,4,5] \n",
    "\n",
    "Tuple: tuple is an immutable data type.\n",
    "\n",
    "Exampl: \n",
    "b = (55,66,77,88,99)"
   ]
  },
  {
   "cell_type": "markdown",
   "id": "5e5a4dfa-54ab-4c53-b965-fe90479f4278",
   "metadata": {},
   "source": [
    "Answer- 2:\n",
    "\n",
    "Input function in Python is used to recieve input from user which can be used for further processing.\n",
    "By default, input function will accept STRING values but they can be type-casted into any other data type. \n",
    "An Example is as follows :\n",
    "\n",
    "a = input('Enter Your Name: ')       # Normal use of input function\n",
    "a = int(input('Enter Your Age: ')    # Type-casted use of input function"
   ]
  },
  {
   "cell_type": "markdown",
   "id": "9ae42f53-a9de-4b8f-a6c0-e75cc9a392f5",
   "metadata": {},
   "source": [
    "Answer- 3: \n",
    "\n",
    "Dictionaries refer to the immutable data type that is provided in the python language. this means once data is stored in a dictionary it cannot be appended, or modified. In dictionaries data is stored in a 'KEY-VALUE' format which helps in uniquely identifying every value i.e. conncected with it's respective key\n",
    "\n",
    "Syntax: \n",
    "dictionary_name : {'Key_name': 'Value', 'Key_2': 'Value'........'Key n': 'Value'}\n",
    "\n",
    "Example:\n",
    "a = {'Name': 'Aaryan',\n",
    "     'Age': 20,\n",
    "     'Roll_No': 50}\n",
    "     "
   ]
  },
  {
   "cell_type": "markdown",
   "id": "ec94006e-9dc1-42a2-85b7-64166ad7c53a",
   "metadata": {},
   "source": [
    "Answer- 4:\n",
    "\n",
    "Loops are used in python to save time, effort. These loops are used when the same task is to be done again and again. There are two types of loops in python : for & while loop.\n",
    "\n",
    "For Loop is used in Python when the block of code is to be repeated only 'x' number of times as and when defined by the programmer.\n",
    "Refer to the next cell for the required code: \n",
    "\n"
   ]
  },
  {
   "cell_type": "code",
   "execution_count": 12,
   "id": "390590ba-c1b1-48e7-b2f9-c7ed3d947890",
   "metadata": {},
   "outputs": [
    {
     "name": "stdout",
     "output_type": "stream",
     "text": [
      "1 \n",
      "\n",
      "2 \n",
      "\n",
      "3 \n",
      "\n",
      "4 \n",
      "\n",
      "5 \n",
      "\n"
     ]
    }
   ],
   "source": [
    "# Answer- 4 (continuation): \n",
    "for i in range(1,6):\n",
    "    print(i,'\\n')\n"
   ]
  },
  {
   "cell_type": "markdown",
   "id": "b458200c-e8f4-456b-a5e1-15b192a17f62",
   "metadata": {},
   "source": [
    "Answer- 5:\n",
    "\n",
    "Exception Handling refers to a process in Python using which we can handle unexpected or wanted situations/errors known as 'Exceptions'. 'try' & 'catch' blocks are the main building blocks of exception Handling, but 'finally' is also used . \n",
    "\n",
    "\n",
    "Try: this block contains the block of code in which an error might arrive. \n",
    "\n",
    "Except: this block tells us what to do in order to handle the exception occured in the 'try' block. We can also specify the type of exception in the try block otherwise by-default it would work for all types of errors.\n",
    "\n",
    "Finally: If the solution of 'except' is incorrect or it cannot be used in that case the control of the program goes to the 'finally' block and the solution provided in the fially block would run."
   ]
  },
  {
   "cell_type": "markdown",
   "id": "31bc0384-86aa-410d-b897-d3baf90d251d",
   "metadata": {},
   "source": [
    "Answer- 6: \n",
    "\n",
    "Python is known for it's wide variety of modules (more than 6.5 Lakhs modules).\n",
    "Modules contain a set of pre-defined functions which can be used by the programmer as and when needed. This helps in saving time, and also acheiving code reusability. \n",
    "There are two types of modules : User-defined & Pre-defined \n",
    "Example: Python, MatPlotLib, Pygame, BeautifulSoup, etc.\n",
    "\n",
    "import math: This is used the entire math module and all of it's functions can be used. \n",
    "from math import sqrt : This specifically only calls the 'sqrt' function from the maths module "
   ]
  },
  {
   "cell_type": "markdown",
   "id": "5f5f63e2-3a83-402a-b180-8c3335ee2176",
   "metadata": {},
   "source": [
    "Answer- 7: \n",
    "\n",
    "Object - Oriented Programming :\n",
    "\n",
    "In the heirarchy of programming OOP is the newest level of programming, OOP enhances code reusability, it is more secured, as compared to other types of programming \n",
    "\n",
    "\n",
    "Classes and Objects: \n",
    "\n",
    "Classes refer to the blue-print of objects i.e. classes tell what all taasks are to be doen by the function. 'class' keyword is used to define classes \n",
    "Objects: refer to the instances of classes. Objects are used to initialize classes \n",
    "\n",
    "Example: \n",
    " class Car: {\n",
    " .........\n",
    " .........\n",
    " }\n",
    "\n",
    " sedan = Car()  # Object "
   ]
  },
  {
   "cell_type": "code",
   "execution_count": 14,
   "id": "07466805-2b4d-4b7f-a7b6-592f87acdc5f",
   "metadata": {},
   "outputs": [],
   "source": [
    "# Answer -9: \n",
    "\n",
    "def calculate_area(r):\n",
    "    area = 3.14*r*r\n",
    "\n",
    "    return f' Area of fig with radius {r} is : {area}units'"
   ]
  },
  {
   "cell_type": "code",
   "execution_count": 16,
   "id": "27eb7786-3ecc-4c26-9932-aadcbbbfc074",
   "metadata": {},
   "outputs": [
    {
     "data": {
      "text/plain": [
       "' Area of fig with radius 20 is : 1256.0units'"
      ]
     },
     "execution_count": 16,
     "metadata": {},
     "output_type": "execute_result"
    }
   ],
   "source": [
    "calculate_area(20)"
   ]
  },
  {
   "cell_type": "code",
   "execution_count": 21,
   "id": "3650f2fd-f93c-49ac-b7f8-8ce65cde373d",
   "metadata": {},
   "outputs": [],
   "source": [
    "#Answer-10: \n",
    "def name_age(n,a):\n",
    "    return f'Hello {n}, you are {a} years old'\n",
    "    "
   ]
  },
  {
   "cell_type": "code",
   "execution_count": 25,
   "id": "051da214-aef2-4dab-8970-9fa82093c100",
   "metadata": {},
   "outputs": [
    {
     "data": {
      "text/plain": [
       "'Hello Aaryan, you are 20 years old'"
      ]
     },
     "execution_count": 25,
     "metadata": {},
     "output_type": "execute_result"
    }
   ],
   "source": [
    "name_age('Aaryan',20)"
   ]
  },
  {
   "cell_type": "code",
   "execution_count": 30,
   "id": "343d4ab5-0569-4647-bd19-26e7ae9a3a39",
   "metadata": {},
   "outputs": [
    {
     "ename": "SyntaxError",
     "evalue": "'return' outside function (2496928027.py, line 6)",
     "output_type": "error",
     "traceback": [
      "\u001b[1;36m  Cell \u001b[1;32mIn[30], line 6\u001b[1;36m\u001b[0m\n\u001b[1;33m    return i\u001b[0m\n\u001b[1;37m    ^\u001b[0m\n\u001b[1;31mSyntaxError\u001b[0m\u001b[1;31m:\u001b[0m 'return' outside function\n"
     ]
    }
   ],
   "source": [
    "#Answer-11: \n",
    "\n",
    "fruits = ['Apple','Banana','Orange','Pineapple','Watermelon','Mango']\n",
    "\n",
    "for i in enumerate(fruits): \n",
    "    return i"
   ]
  },
  {
   "cell_type": "code",
   "execution_count": 41,
   "id": "d1e46a9b-fab1-4b90-8a08-efad5a974bc9",
   "metadata": {},
   "outputs": [],
   "source": [
    "#Answer- 12: \n",
    "\n",
    "def grade_calculator(n):\n",
    "    if 100 >= n >= 90:\n",
    "        print('Your grade is : A')\n",
    "\n",
    "    elif 89 >= n >= 80:\n",
    "        print('Your grade is : B')\n",
    "\n",
    "    elif 79 >= n >= 70:\n",
    "        print('Your grade is : C')\n",
    "\n",
    "    elif 69 >= n >= 60:\n",
    "        print('Your grade is : D')\n",
    "\n",
    "    elif n<= 60:\n",
    "        print('Your grade is F ')\n",
    "\n",
    "    else: \n",
    "        print('Invalid Input')\n",
    "    \n"
   ]
  },
  {
   "cell_type": "code",
   "execution_count": 45,
   "id": "53c60603-0237-4d4e-8cf2-7473cc8dae1f",
   "metadata": {},
   "outputs": [
    {
     "name": "stdout",
     "output_type": "stream",
     "text": [
      "Your grade is : A\n"
     ]
    }
   ],
   "source": [
    "grade_calculator(100)"
   ]
  },
  {
   "cell_type": "code",
   "execution_count": 6,
   "id": "a9f05736-2aec-4b02-8aa5-157721443a5b",
   "metadata": {},
   "outputs": [
    {
     "name": "stdout",
     "output_type": "stream",
     "text": [
      "Done\n"
     ]
    }
   ],
   "source": [
    "#Answer- 14: \n",
    "class BankAccount:\n",
    "    \n",
    "    def name_bal(self):\n",
    "        n = input('Enter Your Name: ')\n",
    "        b = int(input('Enter Your Account Balance: '))\n",
    "\n",
    "    def deposit(b): \n",
    "        c = int(input('Enter Amount that you want to deposit: '))\n",
    "        b = c + b\n",
    "        print(f' Your New Balance is: {b}')\n",
    "\n",
    "    def withdraw(self): \n",
    "        w = int(input('Enter amount you want to withdraw: '))\n",
    "        if w >= b:\n",
    "            print('You can withdraw this amount ')\n",
    "\n",
    "        else:\n",
    "            print('Insufficient Funds')\n",
    "\n",
    "    def current_bal(self):\n",
    "        return f'Your Account Balance is : {b} '\n",
    "        \n",
    "\n",
    "print('Done')    "
   ]
  },
  {
   "cell_type": "code",
   "execution_count": 7,
   "id": "bbd5a6d5-6a0b-4893-b37e-5f4c9886ca17",
   "metadata": {},
   "outputs": [],
   "source": [
    "aa = BankAccount()"
   ]
  },
  {
   "cell_type": "code",
   "execution_count": 10,
   "id": "2e54f0c2-3fb0-4185-ad32-ee6fc0b63392",
   "metadata": {},
   "outputs": [
    {
     "name": "stdout",
     "output_type": "stream",
     "text": [
      "Done\n"
     ]
    }
   ],
   "source": [
    "#Answer- 15: \n",
    "def check_prime(n):\n",
    "    for i in range(2,n+1):\n",
    "        if n%i == 0:\n",
    "            return f'{n} is not a  Prime'\n",
    "\n",
    "        else:\n",
    "            return f'{n} is a Prime'\n",
    "\n",
    "print('Done')"
   ]
  },
  {
   "cell_type": "code",
   "execution_count": 11,
   "id": "03b9217b-7d68-4806-b0d6-3ecf4071ecda",
   "metadata": {},
   "outputs": [
    {
     "data": {
      "text/plain": [
       "'4 is not a  Prime'"
      ]
     },
     "execution_count": 11,
     "metadata": {},
     "output_type": "execute_result"
    }
   ],
   "source": [
    "check_prime(4)"
   ]
  },
  {
   "cell_type": "code",
   "execution_count": null,
   "id": "c29b9746-0c67-4846-b77a-6be7cf046927",
   "metadata": {},
   "outputs": [],
   "source": []
  },
  {
   "cell_type": "code",
   "execution_count": null,
   "id": "7e90ad4a-dac0-48bb-885c-c45b2b59efbd",
   "metadata": {},
   "outputs": [],
   "source": []
  },
  {
   "cell_type": "code",
   "execution_count": null,
   "id": "b460075f-748a-435e-8df9-4bbafcbbca6b",
   "metadata": {},
   "outputs": [],
   "source": []
  },
  {
   "cell_type": "code",
   "execution_count": null,
   "id": "6d223d83-4c39-4e89-8917-751984a02c9a",
   "metadata": {},
   "outputs": [],
   "source": []
  },
  {
   "cell_type": "code",
   "execution_count": null,
   "id": "18a08025-ef5b-42d5-8a43-d6d1f22d3be2",
   "metadata": {},
   "outputs": [],
   "source": []
  }
 ],
 "metadata": {
  "kernelspec": {
   "display_name": "Python 3 (ipykernel)",
   "language": "python",
   "name": "python3"
  },
  "language_info": {
   "codemirror_mode": {
    "name": "ipython",
    "version": 3
   },
   "file_extension": ".py",
   "mimetype": "text/x-python",
   "name": "python",
   "nbconvert_exporter": "python",
   "pygments_lexer": "ipython3",
   "version": "3.13.5"
  }
 },
 "nbformat": 4,
 "nbformat_minor": 5
}
