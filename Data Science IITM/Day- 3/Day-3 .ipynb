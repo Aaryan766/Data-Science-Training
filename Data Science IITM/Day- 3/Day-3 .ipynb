{
 "cells": [
  {
   "cell_type": "code",
   "execution_count": 5,
   "id": "9c316b4d-e18c-45da-8452-8772727e4c57",
   "metadata": {},
   "outputs": [
    {
     "name": "stdout",
     "output_type": "stream",
     "text": [
      "Invalid Code!!\n"
     ]
    }
   ],
   "source": [
    "# Exception Handling\n",
    "\n",
    "age = '23'\n",
    "\n",
    "try:\n",
    "    print(1/0)\n",
    "    if age >= 18:\n",
    "        print('can vote')\n",
    "    else:\n",
    "        print('can\\'t vote')\n",
    "except TypeError:\n",
    "    print('Something went wrong!!!')\n",
    "    print('Invalid DataType Comparison!!!')\n",
    "\n",
    "except:\n",
    "    print('Invalid Code!!')\n",
    "        "
   ]
  },
  {
   "cell_type": "code",
   "execution_count": 8,
   "id": "29e095c3-fe2d-4222-bf5c-20728f3a7c79",
   "metadata": {},
   "outputs": [],
   "source": [
    "def student_records(**kwargs):\n",
    "\n",
    "    import pandas as pd\n",
    "    try:\n",
    "        data = pd.DataFrame(kwargs)\n",
    "        return data\n",
    "    except:\n",
    "        data = pd.DataFrame(kwargs,index=[1])\n",
    "        return data\n",
    "        "
   ]
  },
  {
   "cell_type": "code",
   "execution_count": 13,
   "id": "037c4eee-c69a-412b-9521-6a22ad9f2de7",
   "metadata": {},
   "outputs": [
    {
     "data": {
      "text/html": [
       "<div>\n",
       "<style scoped>\n",
       "    .dataframe tbody tr th:only-of-type {\n",
       "        vertical-align: middle;\n",
       "    }\n",
       "\n",
       "    .dataframe tbody tr th {\n",
       "        vertical-align: top;\n",
       "    }\n",
       "\n",
       "    .dataframe thead th {\n",
       "        text-align: right;\n",
       "    }\n",
       "</style>\n",
       "<table border=\"1\" class=\"dataframe\">\n",
       "  <thead>\n",
       "    <tr style=\"text-align: right;\">\n",
       "      <th></th>\n",
       "      <th>Name</th>\n",
       "      <th>Age</th>\n",
       "      <th>Address</th>\n",
       "      <th>Sec</th>\n",
       "    </tr>\n",
       "  </thead>\n",
       "  <tbody>\n",
       "    <tr>\n",
       "      <th>0</th>\n",
       "      <td>Ajay</td>\n",
       "      <td>12</td>\n",
       "      <td>Noida</td>\n",
       "      <td>A</td>\n",
       "    </tr>\n",
       "    <tr>\n",
       "      <th>1</th>\n",
       "      <td>Karan</td>\n",
       "      <td>23</td>\n",
       "      <td>Delhi</td>\n",
       "      <td>B</td>\n",
       "    </tr>\n",
       "    <tr>\n",
       "      <th>2</th>\n",
       "      <td>Mohan</td>\n",
       "      <td>24</td>\n",
       "      <td>Noida</td>\n",
       "      <td>C</td>\n",
       "    </tr>\n",
       "  </tbody>\n",
       "</table>\n",
       "</div>"
      ],
      "text/plain": [
       "    Name  Age Address Sec\n",
       "0   Ajay   12   Noida   A\n",
       "1  Karan   23   Delhi   B\n",
       "2  Mohan   24   Noida   C"
      ]
     },
     "execution_count": 13,
     "metadata": {},
     "output_type": "execute_result"
    }
   ],
   "source": [
    "student_records(Name= ['Ajay','Karan','Mohan'],\n",
    "                Age = [12,23,24],\n",
    "                Address = ['Noida','Delhi','Noida'],\n",
    "                Sec = list('ABC'))"
   ]
  },
  {
   "cell_type": "code",
   "execution_count": 19,
   "id": "5f35d2bb-0547-480d-85ec-4d1c7597e6ac",
   "metadata": {},
   "outputs": [],
   "source": [
    "def show_time():\n",
    "    try:\n",
    "        while True:\n",
    "            import time\n",
    "            print(time.asctime())\n",
    "            time.sleep(1)\n",
    "            display(clear = True)\n",
    "    except:\n",
    "        print('Timer Stopped')\n",
    "        "
   ]
  },
  {
   "cell_type": "code",
   "execution_count": 20,
   "id": "2577117a-95f6-458a-a81f-c7fde9817f6e",
   "metadata": {},
   "outputs": [
    {
     "name": "stdout",
     "output_type": "stream",
     "text": [
      "Fri Jul  4 10:39:36 2025\n",
      "Timer Stopped\n"
     ]
    }
   ],
   "source": [
    "show_time()\n"
   ]
  },
  {
   "cell_type": "code",
   "execution_count": 1,
   "id": "76deb415-cff9-43f4-b3cc-13e2c84c3760",
   "metadata": {},
   "outputs": [
    {
     "name": "stdout",
     "output_type": "stream",
     "text": [
      "This is Aaryan Module in Python\n",
      "Info: https://www.google.com/\n",
      "Done\n"
     ]
    }
   ],
   "source": [
    "import Aaryan as a\n",
    "print('Done')"
   ]
  },
  {
   "cell_type": "code",
   "execution_count": 5,
   "id": "cf0d8865-c0ff-4e17-b74e-93ebbdec5663",
   "metadata": {},
   "outputs": [
    {
     "name": "stdout",
     "output_type": "stream",
     "text": [
      "      % \n",
      "     % % \n",
      "    % % % \n",
      "   % % % % \n",
      "  % % % % % \n",
      " % % % % % % \n",
      "% % % % % % % \n"
     ]
    }
   ],
   "source": [
    "a.print_star(n = 7, typ = 'mid', shape = '%')"
   ]
  },
  {
   "cell_type": "code",
   "execution_count": 9,
   "id": "c6a30147-e25d-4ee7-87ba-236d0253bb3d",
   "metadata": {},
   "outputs": [
    {
     "data": {
      "text/plain": [
       "'Palindrome'"
      ]
     },
     "execution_count": 9,
     "metadata": {},
     "output_type": "execute_result"
    }
   ],
   "source": [
    "a.check_palindrome('ara')"
   ]
  },
  {
   "cell_type": "code",
   "execution_count": 12,
   "id": "f538be8e-356d-4a6e-ad60-93a4a8c4e69a",
   "metadata": {},
   "outputs": [
    {
     "data": {
      "text/plain": [
       "'Prime Number'"
      ]
     },
     "execution_count": 12,
     "metadata": {},
     "output_type": "execute_result"
    }
   ],
   "source": [
    "a.check_prime(127)"
   ]
  },
  {
   "cell_type": "code",
   "execution_count": 13,
   "id": "ad2ed3f0-4a23-4707-939c-bcd7c3ac2455",
   "metadata": {},
   "outputs": [
    {
     "name": "stdout",
     "output_type": "stream",
     "text": [
      "Fri Jul  4 11:56:27 2025\n",
      "Timer Stopped\n"
     ]
    }
   ],
   "source": [
    "a.show_time()\n"
   ]
  },
  {
   "cell_type": "code",
   "execution_count": 15,
   "id": "1da15d51-2a31-4858-aa9b-deceaa1fa54f",
   "metadata": {},
   "outputs": [
    {
     "name": "stdout",
     "output_type": "stream",
     "text": [
      "[0, 1]\n"
     ]
    }
   ],
   "source": [
    "a.give_fibo(2)"
   ]
  },
  {
   "cell_type": "code",
   "execution_count": 3,
   "id": "e3dce5c5-03b9-48bf-a9f4-2f55c19d99aa",
   "metadata": {},
   "outputs": [],
   "source": [
    "a.sound_box(120,'GPay')"
   ]
  },
  {
   "cell_type": "code",
   "execution_count": 5,
   "id": "9297350c-8cad-478d-93ff-5468fdc85784",
   "metadata": {},
   "outputs": [],
   "source": [
    "#pip install pygame"
   ]
  },
  {
   "cell_type": "code",
   "execution_count": 1,
   "id": "5142afee-bc43-4a76-a8c8-936b74bd0dba",
   "metadata": {},
   "outputs": [],
   "source": [
    "#pip install gTTS \n",
    "from gtts import gTTS"
   ]
  },
  {
   "cell_type": "code",
   "execution_count": 3,
   "id": "7365b167-5168-47dc-92b2-92359abc9316",
   "metadata": {},
   "outputs": [
    {
     "name": "stdout",
     "output_type": "stream",
     "text": [
      "Done\n"
     ]
    }
   ],
   "source": [
    "from Aaryan import minn\n",
    "print('Done')"
   ]
  },
  {
   "cell_type": "code",
   "execution_count": 5,
   "id": "96ad0d9a-0a74-4577-8498-10b98b8a458d",
   "metadata": {},
   "outputs": [
    {
     "data": {
      "text/plain": [
       "1"
      ]
     },
     "execution_count": 5,
     "metadata": {},
     "output_type": "execute_result"
    }
   ],
   "source": [
    "minn(2,33,44,66,6666,1,9898)"
   ]
  },
  {
   "cell_type": "code",
   "execution_count": 6,
   "id": "d93e2395-c2dd-420b-9ee8-9a14e518b52c",
   "metadata": {},
   "outputs": [
    {
     "name": "stdout",
     "output_type": "stream",
     "text": [
      "Done\n"
     ]
    }
   ],
   "source": [
    "from Aaryan import student_records\n",
    "print('Done')"
   ]
  },
  {
   "cell_type": "code",
   "execution_count": 7,
   "id": "82887091-f2a3-49b8-9c30-15535b1cb9be",
   "metadata": {},
   "outputs": [
    {
     "data": {
      "text/html": [
       "<div>\n",
       "<style scoped>\n",
       "    .dataframe tbody tr th:only-of-type {\n",
       "        vertical-align: middle;\n",
       "    }\n",
       "\n",
       "    .dataframe tbody tr th {\n",
       "        vertical-align: top;\n",
       "    }\n",
       "\n",
       "    .dataframe thead th {\n",
       "        text-align: right;\n",
       "    }\n",
       "</style>\n",
       "<table border=\"1\" class=\"dataframe\">\n",
       "  <thead>\n",
       "    <tr style=\"text-align: right;\">\n",
       "      <th></th>\n",
       "      <th>Name</th>\n",
       "      <th>Age</th>\n",
       "    </tr>\n",
       "  </thead>\n",
       "  <tbody>\n",
       "    <tr>\n",
       "      <th>1</th>\n",
       "      <td>Aaryan</td>\n",
       "      <td>20</td>\n",
       "    </tr>\n",
       "  </tbody>\n",
       "</table>\n",
       "</div>"
      ],
      "text/plain": [
       "     Name  Age\n",
       "1  Aaryan   20"
      ]
     },
     "execution_count": 7,
     "metadata": {},
     "output_type": "execute_result"
    }
   ],
   "source": [
    "student_records(Name = 'Aaryan', Age = 20)"
   ]
  },
  {
   "cell_type": "code",
   "execution_count": 9,
   "id": "b4f32f13-8175-488e-b20d-625632e188eb",
   "metadata": {},
   "outputs": [
    {
     "name": "stdout",
     "output_type": "stream",
     "text": [
      "Done\n"
     ]
    }
   ],
   "source": [
    "from Aaryan import *\n",
    "print('Done')"
   ]
  },
  {
   "cell_type": "code",
   "execution_count": 10,
   "id": "144b3316-9242-46be-90c4-6dd59df636a5",
   "metadata": {},
   "outputs": [
    {
     "data": {
      "text/plain": [
       "10"
      ]
     },
     "execution_count": 10,
     "metadata": {},
     "output_type": "execute_result"
    }
   ],
   "source": [
    "sum_of_n_natural_numbers(4)"
   ]
  },
  {
   "cell_type": "code",
   "execution_count": 1,
   "id": "25f9149f-0a6e-4a5a-9679-ba0fab32a938",
   "metadata": {},
   "outputs": [],
   "source": [
    "import turtle\n",
    "for i in range(120):\n",
    "    turtle.speed(0)\n",
    "    turtle.bgcolor('black')\n",
    "    col = ['red','yellow','blue','green','orange']\n",
    "    import random\n",
    "    picked_color = random.choice(col)\n",
    "    turtle.color(picked_color)\n",
    "    turtle.circle(100)\n",
    "    turtle.left(3)"
   ]
  },
  {
   "cell_type": "code",
   "execution_count": 1,
   "id": "956c6d70-7d2b-4967-94ae-e99f8d4bd493",
   "metadata": {},
   "outputs": [],
   "source": [
    "import turtle\n",
    "for i in range(6):\n",
    "    turtle.bgcolor('black')\n",
    "    turtle.color('cyan')\n",
    "    turtle.forward(150)\n",
    "    turtle.left(60)\n",
    "    \n"
   ]
  },
  {
   "cell_type": "code",
   "execution_count": 1,
   "id": "329af99e-c7cf-4f95-abfb-245d9076cd74",
   "metadata": {},
   "outputs": [],
   "source": [
    "# FILE HANDLING"
   ]
  },
  {
   "cell_type": "code",
   "execution_count": 4,
   "id": "87e608af-c2af-4840-87a7-201d66a80890",
   "metadata": {},
   "outputs": [],
   "source": [
    "#1 Text File\n",
    "#.py, .html, .csv, .tsv, .css, .java, .c, .c++, .json, .js\n",
    "\n",
    "#2 Binary File\n",
    "# .mp3, .mp4, .jpeg, .zip, .exe"
   ]
  },
  {
   "cell_type": "code",
   "execution_count": 7,
   "id": "05206c78-5905-489e-b568-fc56de3983c8",
   "metadata": {},
   "outputs": [
    {
     "name": "stdout",
     "output_type": "stream",
     "text": [
      "print('''This is Aaryan Module in Python\n",
      "Info: https://www.google.com/''')\n",
      "\n",
      "# Day-1 Functions: \n",
      "def \n"
     ]
    }
   ],
   "source": [
    "file = open('Aaryan.py', mode = 'r')\n",
    "print(file.read(100))\n",
    "file.close()"
   ]
  },
  {
   "cell_type": "code",
   "execution_count": 8,
   "id": "f0dd2eac-f15c-4d93-a5c6-4f1baf273b09",
   "metadata": {},
   "outputs": [
    {
     "name": "stdout",
     "output_type": "stream",
     "text": [
      "2681286225440\n",
      "2681286225440\n"
     ]
    }
   ],
   "source": [
    "a = 'abab'\n",
    "b = 'abab'\n",
    "\n",
    "print(id(a))\n",
    "print(id(b))"
   ]
  },
  {
   "cell_type": "code",
   "execution_count": 9,
   "id": "0740b752-b1a1-4e69-8b1a-63d234e182c4",
   "metadata": {},
   "outputs": [],
   "source": [
    "f = open('Aaryan.py', mode ='r')"
   ]
  },
  {
   "cell_type": "code",
   "execution_count": 21,
   "id": "0c725b0f-1551-4e32-92c7-a6e97f89071a",
   "metadata": {},
   "outputs": [
    {
     "name": "stdout",
     "output_type": "stream",
     "text": [
      "    p.init()\n",
      "\n"
     ]
    }
   ],
   "source": [
    "print(f.readline())"
   ]
  },
  {
   "cell_type": "code",
   "execution_count": 22,
   "id": "d9ca47fb-e82c-47e0-95bc-e40a382d0394",
   "metadata": {},
   "outputs": [
    {
     "name": "stdout",
     "output_type": "stream",
     "text": [
      "Done\n"
     ]
    }
   ],
   "source": [
    "f.close()\n",
    "print('Done')"
   ]
  },
  {
   "cell_type": "code",
   "execution_count": 27,
   "id": "f04bd8b0-9edc-4e4d-826b-c4a5e922abd5",
   "metadata": {},
   "outputs": [
    {
     "name": "stdout",
     "output_type": "stream",
     "text": [
      "print('''This is Aaryan Module in Python\n",
      "\n",
      "Info: https://www.google.com/''')\n",
      "\n"
     ]
    }
   ],
   "source": [
    "f = open('Aaryan.py', mode ='r')\n",
    "for i in range(2):\n",
    "    print(f.readline())\n",
    "\n"
   ]
  },
  {
   "cell_type": "code",
   "execution_count": 28,
   "id": "778bb6e8-bba1-463e-a084-1cc15a535472",
   "metadata": {},
   "outputs": [
    {
     "name": "stdout",
     "output_type": "stream",
     "text": [
      "def sound_box(paisa, platform='Paytm'):\n",
      "\n"
     ]
    }
   ],
   "source": [
    "f = open('Aaryan.py', mode ='r')\n",
    "for i in range(10):\n",
    "    if i == 4:\n",
    "        print(f.readline())\n",
    "    else:\n",
    "        f.readline()\n",
    "\n",
    "\n"
   ]
  },
  {
   "cell_type": "code",
   "execution_count": 29,
   "id": "06a865fe-1ab4-4500-beaf-18f9f6ac8716",
   "metadata": {},
   "outputs": [
    {
     "name": "stdout",
     "output_type": "stream",
     "text": [
      "Done\n"
     ]
    }
   ],
   "source": [
    "f = open('Aaryan.py', mode ='r')\n",
    "\n",
    "data = f.readlines()\n",
    "\n",
    "f.close()\n",
    "\n",
    "print('Done')"
   ]
  },
  {
   "cell_type": "code",
   "execution_count": 30,
   "id": "60618631-3790-4a52-b1fc-9d64c524b146",
   "metadata": {},
   "outputs": [
    {
     "name": "stdout",
     "output_type": "stream",
     "text": [
      "[\"print('''This is Aaryan Module in Python\\n\", \"Info: https://www.google.com/''')\\n\", '\\n', '# Day-1 Functions: \\n', \"def sound_box(paisa, platform='Paytm'):\\n\", '    from gtts import gTTS\\n', \"    text = f''' {platform} pr {paisa} Rupee prapt hue.'''\\n\", '    audio = gTTS(text)\\n', \"    audio.save('paytm.mp3')\\n\", '\\n', '    import pygame as p\\n', '    p.init()\\n', '\\n', \"    music = p.mixer.Sound('paytm.mp3')\\n\", '    music.play()\\n', '\\n', '\\n', '# Day-2 Functions: \\n', '\\n', 'def check_palindrome(word):\\n', '    if type(word) == str:\\n', '        word=word.upper()\\n', '        if word==word[::-1]:\\n', \"            return 'Palindrome'\\n\", '        else:\\n', \"            return 'Not a palindrome'\\n\", '    else:\\n', \"        return'Invalid Data Type'\\n\", '\\n', 'def give_fibo(n):\\n', '    fibo = [0,1]\\n', '    for i in range(n-2):\\n', '        last_num = fibo[-1]\\n', '        second_last_num = fibo[-2]\\n', '        next_num = last_num + second_last_num\\n', '        fibo.append(next_num)\\n', '    print(fibo)\\n', '\\n', 'def check_prime(number):\\n', '    for i in range (2,number):\\n', '        if number%i == 0:\\n', \"            return'Not a prime number'\\n\", '            break\\n', '    else:\\n', \"        return 'Prime Number'        \\n\", '\\n', '\\n', \"def print_star(n=5,typ='left',shape='*'):\\n\", \"    if typ=='left':\\n\", \"        space = ''\\n\", '    \\n', \"    elif typ=='right':\\n\", \"        space = '  '\\n\", '    \\n', \"    elif typ=='mid':\\n\", \"        space = ' '\\n\", '    \\n', '    for i in range(1,n+1):\\n', \"        print(space*(n-i)+ i*f'{shape} ')\\n\", '\\n', 'def sum_of_n_natural_numbers(n):\\n', '    result=0\\n', '    for i in range(1,n+1):\\n', '        result+=i\\n', '    return result\\n', '\\n', 'def factorial(n):\\n', '    result=1\\n', '    for i in range (1,n+1):\\n', '        result*=i\\n', '    return result\\n', '\\n', 'def total_sales(*args):\\n', '    # unpacking\\n', '    result = 0\\n', '    for i in args:\\n', '        result += i\\n', '    return result\\n', '\\n', 'def minn(*data):\\n', '    min_ele = data[0]\\n', '    for i in data [1:]:\\n', '        if i < min_ele:\\n', '            min_ele = i\\n', '    return min_ele\\n', '\\n', 'def maxx(*values):\\n', '    max_ele = values[0]\\n', '    for i in values[1:]:\\n', '        if i > max_ele:\\n', '            max_ele=i\\n', '    return max_ele\\n', '\\n', '\\n', '\\n', '# Day-3 Functions: \\n', '\\n', 'def student_records(**kwargs):\\n', '\\n', '    import pandas as pd\\n', '    try:\\n', '        data = pd.DataFrame(kwargs)\\n', '        return data\\n', '    except:\\n', '        data = pd.DataFrame(kwargs,index=[1])\\n', '        return data\\n', '\\n', '\\n', 'def show_time():\\n', '    try:\\n', '        while True:\\n', '            import time\\n', '            print(time.asctime())\\n', '            time.sleep(1)\\n', '            display(clear = True)\\n', '    except:\\n', \"        print('Timer Stopped')\\n\", '\\n']\n"
     ]
    }
   ],
   "source": [
    "print(data)"
   ]
  },
  {
   "cell_type": "code",
   "execution_count": 33,
   "id": "354c8ee8-92ad-4cde-a4ca-707ef481d9d6",
   "metadata": {},
   "outputs": [
    {
     "name": "stdout",
     "output_type": "stream",
     "text": [
      "[\"def sound_box(paisa, platform='Paytm'):\\n\", '    from gtts import gTTS\\n', \"    text = f''' {platform} pr {paisa} Rupee prapt hue.'''\\n\", '    audio = gTTS(text)\\n', \"    audio.save('paytm.mp3')\\n\", '\\n', '    import pygame as p\\n', '    p.init()\\n', '\\n', \"    music = p.mixer.Sound('paytm.mp3')\\n\", '    music.play()\\n', '\\n', '\\n', '# Day-2 Functions: \\n', '\\n', 'def check_palindrome(word):\\n', '    if type(word) == str:\\n', '        word=word.upper()\\n', '        if word==word[::-1]:\\n', \"            return 'Palindrome'\\n\", '        else:\\n', \"            return 'Not a palindrome'\\n\", '    else:\\n', \"        return'Invalid Data Type'\\n\", '\\n', 'def give_fibo(n):\\n', '    fibo = [0,1]\\n', '    for i in range(n-2):\\n', '        last_num = fibo[-1]\\n', '        second_last_num = fibo[-2]\\n', '        next_num = last_num + second_last_num\\n', '        fibo.append(next_num)\\n', '    print(fibo)\\n', '\\n', 'def check_prime(number):\\n', '    for i in range (2,number):\\n']\n"
     ]
    }
   ],
   "source": [
    "print(data[4:40])"
   ]
  },
  {
   "cell_type": "code",
   "execution_count": 36,
   "id": "87c5d5c5-8991-437d-97fc-603ddcc40c8c",
   "metadata": {},
   "outputs": [
    {
     "name": "stdout",
     "output_type": "stream",
     "text": [
      "print('''This is Aaryan Module in Python\n",
      "\n",
      "Info: https://www.google.com/''')\n",
      "\n",
      "\n",
      "\n",
      "# Day-1 Functions: \n",
      "\n",
      "def sound_box(paisa, platform='Paytm'):\n",
      "\n",
      "    from gtts import gTTS\n",
      "\n",
      "    text = f''' {platform} pr {paisa} Rupee prapt hue.'''\n",
      "\n",
      "    audio = gTTS(text)\n",
      "\n",
      "    audio.save('paytm.mp3')\n",
      "\n",
      "\n",
      "\n",
      "    import pygame as p\n",
      "\n",
      "    p.init()\n",
      "\n",
      "\n",
      "\n",
      "    music = p.mixer.Sound('paytm.mp3')\n",
      "\n",
      "    music.play()\n",
      "\n",
      "\n",
      "\n"
     ]
    }
   ],
   "source": [
    "for i in data[:16]:\n",
    "    print(i)"
   ]
  },
  {
   "cell_type": "code",
   "execution_count": null,
   "id": "3348bf59-c63a-46ad-9f69-8c49beb7c36b",
   "metadata": {},
   "outputs": [],
   "source": []
  },
  {
   "cell_type": "code",
   "execution_count": null,
   "id": "c104c801-59aa-429e-b151-e57950970a01",
   "metadata": {},
   "outputs": [],
   "source": []
  },
  {
   "cell_type": "code",
   "execution_count": null,
   "id": "2f73356b-f95f-4697-9ebf-2e52773b9215",
   "metadata": {},
   "outputs": [],
   "source": []
  },
  {
   "cell_type": "code",
   "execution_count": null,
   "id": "02a68877-9074-43d3-97fc-c35252ffe189",
   "metadata": {},
   "outputs": [],
   "source": []
  }
 ],
 "metadata": {
  "kernelspec": {
   "display_name": "Python 3 (ipykernel)",
   "language": "python",
   "name": "python3"
  },
  "language_info": {
   "codemirror_mode": {
    "name": "ipython",
    "version": 3
   },
   "file_extension": ".py",
   "mimetype": "text/x-python",
   "name": "python",
   "nbconvert_exporter": "python",
   "pygments_lexer": "ipython3",
   "version": "3.13.5"
  }
 },
 "nbformat": 4,
 "nbformat_minor": 5
}
