{
 "cells": [
  {
   "cell_type": "code",
   "execution_count": 3,
   "id": "166bf40a-4c35-4003-bcfe-8252335510c4",
   "metadata": {},
   "outputs": [],
   "source": [
    "def check_palindrome(word):\n",
    "    return word"
   ]
  },
  {
   "cell_type": "code",
   "execution_count": 4,
   "id": "aedf45ef-0120-47cf-88a0-29ead0e0a03a",
   "metadata": {},
   "outputs": [
    {
     "data": {
      "text/plain": [
       "'Ajay'"
      ]
     },
     "execution_count": 4,
     "metadata": {},
     "output_type": "execute_result"
    }
   ],
   "source": [
    "check_palindrome('Ajay')"
   ]
  },
  {
   "cell_type": "code",
   "execution_count": 5,
   "id": "d0cfb0fe-8860-4d14-8034-0de98d42b628",
   "metadata": {},
   "outputs": [
    {
     "name": "stdout",
     "output_type": "stream",
     "text": [
      "ykcul\n"
     ]
    }
   ],
   "source": [
    "a= 'lucky'\n",
    "print(a[::-1])"
   ]
  },
  {
   "cell_type": "code",
   "execution_count": 8,
   "id": "fee8f054-e9be-45e9-9795-bc4f5b8c8537",
   "metadata": {},
   "outputs": [
    {
     "name": "stdout",
     "output_type": "stream",
     "text": [
      "nitin is a plaindrome\n"
     ]
    }
   ],
   "source": [
    "a='nitin'\n",
    "\n",
    "if a==a[::-1]:\n",
    "    print(f'{a} is a plaindrome')\n",
    "else: \n",
    "    print(f'{a} is not a paindrome')\n"
   ]
  },
  {
   "cell_type": "code",
   "execution_count": 1,
   "id": "a9c39676-cf23-4df2-a27c-edcae96ce532",
   "metadata": {},
   "outputs": [],
   "source": [
    "def check_palindrome(word):\n",
    "    if type(word) == str:\n",
    "        word=word.upper()\n",
    "        if word==word[::-1]:\n",
    "            return 'Palindrome'\n",
    "        else:\n",
    "            return 'Not a palindrome'\n",
    "    else:\n",
    "        return'Invalid Data Type'"
   ]
  },
  {
   "cell_type": "code",
   "execution_count": 3,
   "id": "d5ef7649-ec09-41e3-a8f8-4bb8ee9631a8",
   "metadata": {},
   "outputs": [
    {
     "data": {
      "text/plain": [
       "'Invalid Data Type'"
      ]
     },
     "execution_count": 3,
     "metadata": {},
     "output_type": "execute_result"
    }
   ],
   "source": [
    "check_palindrome(122)"
   ]
  },
  {
   "cell_type": "code",
   "execution_count": 28,
   "id": "962b33db-9f1c-4f8d-ad5a-2dc2a0af30d2",
   "metadata": {},
   "outputs": [],
   "source": [
    "def give_fibo(n):\n",
    "    fibo = [0,1]\n",
    "    for i in range(n-2):\n",
    "        last_num = fibo[-1]\n",
    "        second_last_num = fibo[-2]\n",
    "        next_num = last_num + second_last_num\n",
    "        fibo.append(next_num)\n",
    "    print(fibo)\n",
    "        "
   ]
  },
  {
   "cell_type": "code",
   "execution_count": 30,
   "id": "336ec03e-5f12-4fbf-96c6-2f21882fe92d",
   "metadata": {},
   "outputs": [
    {
     "name": "stdout",
     "output_type": "stream",
     "text": [
      "[0, 1, 1, 2, 3, 5, 8, 13, 21]\n"
     ]
    }
   ],
   "source": [
    "give_fibo(9)\n",
    "      "
   ]
  },
  {
   "cell_type": "code",
   "execution_count": 40,
   "id": "a5d90514-e503-4dfe-b92c-9876414abb10",
   "metadata": {},
   "outputs": [],
   "source": [
    "def check_prime(number):\n",
    "    for i in range (2,number):\n",
    "        if number%i == 0:\n",
    "            return'Not a prime number'\n",
    "            break\n",
    "    else:\n",
    "        return 'Prime Number'        \n",
    "        "
   ]
  },
  {
   "cell_type": "code",
   "execution_count": 42,
   "id": "a18fced1-9df1-4fc8-bf04-614f8731ed90",
   "metadata": {},
   "outputs": [
    {
     "data": {
      "text/plain": [
       "'Prime Number'"
      ]
     },
     "execution_count": 42,
     "metadata": {},
     "output_type": "execute_result"
    }
   ],
   "source": [
    "check_prime(23)"
   ]
  },
  {
   "cell_type": "code",
   "execution_count": 48,
   "id": "fdb7c79c-80c3-4524-86d9-34c5201474ae",
   "metadata": {},
   "outputs": [
    {
     "name": "stdout",
     "output_type": "stream",
     "text": [
      "Hello World\n",
      "Hello World\n",
      "Hello World\n",
      "\n"
     ]
    }
   ],
   "source": [
    "n=3\n",
    "\n",
    "print('Hello World\\n'*n)"
   ]
  },
  {
   "cell_type": "code",
   "execution_count": 62,
   "id": "1aadf17c-e2cd-46c5-a686-0ea34cbd696e",
   "metadata": {},
   "outputs": [],
   "source": [
    "def pattern(a):\n",
    "    for i in range(1,a+1):\n",
    "        for j in range (1,i+1):\n",
    "            print('*',end=\" \")\n",
    "        print( )\n",
    "        \n",
    "    "
   ]
  },
  {
   "cell_type": "code",
   "execution_count": 63,
   "id": "ad3f641b-33ef-4fac-babe-166d91ad78d6",
   "metadata": {},
   "outputs": [
    {
     "name": "stdout",
     "output_type": "stream",
     "text": [
      "* \n",
      "* * \n",
      "* * * \n",
      "* * * * \n",
      "* * * * * \n",
      "* * * * * * \n"
     ]
    }
   ],
   "source": [
    "pattern(6)"
   ]
  },
  {
   "cell_type": "code",
   "execution_count": 64,
   "id": "bc6252af-5398-405a-bed7-e2c82e7799ad",
   "metadata": {},
   "outputs": [
    {
     "name": "stdout",
     "output_type": "stream",
     "text": [
      "* \n",
      "* * \n",
      "* * * \n",
      "* * * * \n",
      "* * * * * \n"
     ]
    }
   ],
   "source": [
    "n=5\n",
    "\n",
    "for i in range(1,n+1):\n",
    "    print(i*'* ')"
   ]
  },
  {
   "cell_type": "code",
   "execution_count": 70,
   "id": "d66b99d2-1154-4d1b-804a-ca09211b3284",
   "metadata": {},
   "outputs": [
    {
     "name": "stdout",
     "output_type": "stream",
     "text": [
      "    *\n",
      "   **\n",
      "  ***\n",
      " ****\n",
      "*****\n"
     ]
    }
   ],
   "source": [
    "n=5\n",
    "\n",
    "for i in range(1,n+1):\n",
    "    print(' '*(n-i) + i*'*')"
   ]
  },
  {
   "cell_type": "code",
   "execution_count": 95,
   "id": "150dbd9f-c949-4c98-be9d-a44b32aa6bd9",
   "metadata": {},
   "outputs": [],
   "source": [
    "def print_star(n=5,typ='left',shape='*'):\n",
    "    if typ=='left':\n",
    "        space = ''\n",
    "    \n",
    "    elif typ=='right':\n",
    "        space = '  '\n",
    "    \n",
    "    elif typ=='mid':\n",
    "        space = ' '\n",
    "    \n",
    "    for i in range(1,n+1):\n",
    "        print(space*(n-i)+ i*f'{shape} ')"
   ]
  },
  {
   "cell_type": "code",
   "execution_count": 103,
   "id": "3dcf1b01-4875-4f75-8b31-b074249417ed",
   "metadata": {},
   "outputs": [
    {
     "name": "stdout",
     "output_type": "stream",
     "text": [
      "          & \n",
      "        & & \n",
      "      & & & \n",
      "    & & & & \n",
      "  & & & & & \n",
      "& & & & & & \n"
     ]
    }
   ],
   "source": [
    "print_star(6,'right','&')"
   ]
  },
  {
   "cell_type": "code",
   "execution_count": 5,
   "id": "1874c37d-b02a-48b6-a3c0-e3cb7f4e9ef9",
   "metadata": {},
   "outputs": [],
   "source": [
    "def sum_of_n_natural_numbers(n):\n",
    "    result=0\n",
    "    for i in range(1,n+1):\n",
    "        result+=i\n",
    "    return result\n",
    "    \n"
   ]
  },
  {
   "cell_type": "code",
   "execution_count": 6,
   "id": "4e80fe86-deca-4ce4-a705-006ad27a6f4a",
   "metadata": {},
   "outputs": [
    {
     "data": {
      "text/plain": [
       "15"
      ]
     },
     "execution_count": 6,
     "metadata": {},
     "output_type": "execute_result"
    }
   ],
   "source": [
    "sum_of_n_natural_numbers(5)"
   ]
  },
  {
   "cell_type": "code",
   "execution_count": 114,
   "id": "fd0dd104-5c08-406f-a247-d0fbedfc9493",
   "metadata": {},
   "outputs": [],
   "source": [
    "def factorial(n):\n",
    "    result=1\n",
    "    for i in range (1,n+1):\n",
    "        result*=i\n",
    "    return result"
   ]
  },
  {
   "cell_type": "code",
   "execution_count": 115,
   "id": "2f6c1f7b-dcc4-4d03-a32c-f356657efb65",
   "metadata": {},
   "outputs": [
    {
     "data": {
      "text/plain": [
       "120"
      ]
     },
     "execution_count": 115,
     "metadata": {},
     "output_type": "execute_result"
    }
   ],
   "source": [
    "factorial(5)"
   ]
  },
  {
   "cell_type": "code",
   "execution_count": 9,
   "id": "db11581d-01cf-4783-9add-ba5571ee19ff",
   "metadata": {},
   "outputs": [],
   "source": [
    "def total_sales(*args):\n",
    "    # unpacking\n",
    "    result = 0\n",
    "    for i in args:\n",
    "        result += i\n",
    "    return result\n",
    "    "
   ]
  },
  {
   "cell_type": "code",
   "execution_count": 10,
   "id": "8231a42e-9518-4cc3-9cde-84e728d9c48f",
   "metadata": {},
   "outputs": [
    {
     "data": {
      "text/plain": [
       "12"
      ]
     },
     "execution_count": 10,
     "metadata": {},
     "output_type": "execute_result"
    }
   ],
   "source": [
    "total_sales(1,2,4,5)"
   ]
  },
  {
   "cell_type": "code",
   "execution_count": 20,
   "id": "5723e7d3-7848-4343-a1ab-1d2ba45056fe",
   "metadata": {},
   "outputs": [],
   "source": [
    "sales = [453,56,3312,324,7777,88,5,1,6561]\n",
    "# min(sales)\n"
   ]
  },
  {
   "cell_type": "code",
   "execution_count": 21,
   "id": "5c8c64b0-a715-43df-8a3c-fbadd27f3a78",
   "metadata": {},
   "outputs": [
    {
     "name": "stdout",
     "output_type": "stream",
     "text": [
      "1\n"
     ]
    }
   ],
   "source": [
    "min_element = sales[0]\n",
    "for i in sales [1:]:\n",
    "    if i < min_element:\n",
    "        min_element = i\n",
    "print(min_element)"
   ]
  },
  {
   "cell_type": "code",
   "execution_count": 22,
   "id": "3d8efa8f-814d-4cc1-9a3c-90efd6e590eb",
   "metadata": {},
   "outputs": [
    {
     "name": "stdout",
     "output_type": "stream",
     "text": [
      "7777\n"
     ]
    }
   ],
   "source": [
    "max_element = sales[0]\n",
    "for i in sales[1:]:\n",
    "    if i > max_element:\n",
    "        max_element=i\n",
    "print(max_element)\n"
   ]
  },
  {
   "cell_type": "code",
   "execution_count": 23,
   "id": "d2645604-cf81-44c1-8cd7-33a9e261b4db",
   "metadata": {},
   "outputs": [],
   "source": [
    "def minn(*data):\n",
    "    min_ele = data[0]\n",
    "    for i in data [1:]:\n",
    "        if i < min_ele:\n",
    "            min_ele = i\n",
    "    return min_ele\n",
    "    "
   ]
  },
  {
   "cell_type": "code",
   "execution_count": 24,
   "id": "f84b2d2e-615a-4925-972c-25250373f652",
   "metadata": {},
   "outputs": [
    {
     "data": {
      "text/plain": [
       "21"
      ]
     },
     "execution_count": 24,
     "metadata": {},
     "output_type": "execute_result"
    }
   ],
   "source": [
    "minn(34,45,54,53,21,66,90,101)"
   ]
  },
  {
   "cell_type": "code",
   "execution_count": 26,
   "id": "c576c550-c3da-4342-b241-1a9d8737f426",
   "metadata": {},
   "outputs": [],
   "source": [
    "def maxx(*values):\n",
    "    max_ele = values[0]\n",
    "    for i in values[1:]:\n",
    "        if i > max_ele:\n",
    "            max_ele=i\n",
    "    return max_ele\n",
    "    "
   ]
  },
  {
   "cell_type": "code",
   "execution_count": 27,
   "id": "ffbbc159-13bc-4b06-af06-67e2eaf8aed8",
   "metadata": {},
   "outputs": [
    {
     "data": {
      "text/plain": [
       "12224"
      ]
     },
     "execution_count": 27,
     "metadata": {},
     "output_type": "execute_result"
    }
   ],
   "source": [
    "maxx(23,32,68,86,10111,12224,959)"
   ]
  },
  {
   "cell_type": "code",
   "execution_count": 46,
   "id": "c53f9213-8d72-498d-af63-9babd2f9dff3",
   "metadata": {},
   "outputs": [
    {
     "name": "stdout",
     "output_type": "stream",
     "text": [
      "['#OLA', '#UBER', '#RAPIDO', '#TATA', '#ADANI']\n"
     ]
    }
   ],
   "source": [
    "company=['ola','uber','rapido','tata','adani']\n",
    "\n",
    "result=[]\n",
    "for i in company:\n",
    "    result.append('#' + i.upper())\n",
    "print(result)"
   ]
  },
  {
   "cell_type": "code",
   "execution_count": 43,
   "id": "087a037a-21a7-45ad-8273-75d37573810f",
   "metadata": {},
   "outputs": [],
   "source": [
    "def add_hash(*company):\n",
    "    result=[]\n",
    "    for i in company:\n",
    "        result.append('#' + i.upper())\n",
    "    return result\n"
   ]
  },
  {
   "cell_type": "code",
   "execution_count": 53,
   "id": "ee9c7437-d0a0-4a83-a0af-a1e5b9ccf844",
   "metadata": {},
   "outputs": [
    {
     "data": {
      "text/plain": [
       "['#OLA', '#UBER', '#RAPIDO', '#TATA', '#ADANI']"
      ]
     },
     "execution_count": 53,
     "metadata": {},
     "output_type": "execute_result"
    }
   ],
   "source": [
    "add_hash(*company) \n"
   ]
  },
  {
   "cell_type": "code",
   "execution_count": 55,
   "id": "620c822d-e96d-473d-88ee-15da6371dcd9",
   "metadata": {},
   "outputs": [
    {
     "data": {
      "text/plain": [
       "['#RIL', '#BOAT']"
      ]
     },
     "execution_count": 55,
     "metadata": {},
     "output_type": "execute_result"
    }
   ],
   "source": [
    "add_hash('ril','boat')"
   ]
  },
  {
   "cell_type": "code",
   "execution_count": 60,
   "id": "6fb8f585-04fd-49e3-bc57-3f06c377a16d",
   "metadata": {},
   "outputs": [],
   "source": [
    "def store_records(name,age,sec,roll_no,Class):\n",
    "    data={'Name':name,'Age':age,'Section':sec,'ROll-No':roll_no,'Class':Class}\n",
    "    import pandas as pd\n",
    "    result = pd.DataFrame(data,index=[1])\n",
    "    return result"
   ]
  },
  {
   "cell_type": "code",
   "execution_count": 65,
   "id": "6d69d9b2-a0c1-415e-8dcf-268e38b7260e",
   "metadata": {},
   "outputs": [
    {
     "data": {
      "text/html": [
       "<div>\n",
       "<style scoped>\n",
       "    .dataframe tbody tr th:only-of-type {\n",
       "        vertical-align: middle;\n",
       "    }\n",
       "\n",
       "    .dataframe tbody tr th {\n",
       "        vertical-align: top;\n",
       "    }\n",
       "\n",
       "    .dataframe thead th {\n",
       "        text-align: right;\n",
       "    }\n",
       "</style>\n",
       "<table border=\"1\" class=\"dataframe\">\n",
       "  <thead>\n",
       "    <tr style=\"text-align: right;\">\n",
       "      <th></th>\n",
       "      <th>Name</th>\n",
       "      <th>Age</th>\n",
       "      <th>Section</th>\n",
       "      <th>ROll-No</th>\n",
       "      <th>Class</th>\n",
       "    </tr>\n",
       "  </thead>\n",
       "  <tbody>\n",
       "    <tr>\n",
       "      <th>1</th>\n",
       "      <td>Aaryan</td>\n",
       "      <td>20</td>\n",
       "      <td>A</td>\n",
       "      <td>26</td>\n",
       "      <td>12</td>\n",
       "    </tr>\n",
       "  </tbody>\n",
       "</table>\n",
       "</div>"
      ],
      "text/plain": [
       "     Name  Age Section  ROll-No  Class\n",
       "1  Aaryan   20       A       26     12"
      ]
     },
     "metadata": {},
     "output_type": "display_data"
    },
    {
     "data": {
      "text/html": [
       "<div>\n",
       "<style scoped>\n",
       "    .dataframe tbody tr th:only-of-type {\n",
       "        vertical-align: middle;\n",
       "    }\n",
       "\n",
       "    .dataframe tbody tr th {\n",
       "        vertical-align: top;\n",
       "    }\n",
       "\n",
       "    .dataframe thead th {\n",
       "        text-align: right;\n",
       "    }\n",
       "</style>\n",
       "<table border=\"1\" class=\"dataframe\">\n",
       "  <thead>\n",
       "    <tr style=\"text-align: right;\">\n",
       "      <th></th>\n",
       "      <th>Name</th>\n",
       "      <th>Age</th>\n",
       "      <th>Section</th>\n",
       "      <th>ROll-No</th>\n",
       "      <th>Class</th>\n",
       "    </tr>\n",
       "  </thead>\n",
       "  <tbody>\n",
       "    <tr>\n",
       "      <th>1</th>\n",
       "      <td>Krishna</td>\n",
       "      <td>20</td>\n",
       "      <td>A</td>\n",
       "      <td>27</td>\n",
       "      <td>12</td>\n",
       "    </tr>\n",
       "  </tbody>\n",
       "</table>\n",
       "</div>"
      ],
      "text/plain": [
       "      Name  Age Section  ROll-No  Class\n",
       "1  Krishna   20       A       27     12"
      ]
     },
     "metadata": {},
     "output_type": "display_data"
    },
    {
     "data": {
      "text/html": [
       "<div>\n",
       "<style scoped>\n",
       "    .dataframe tbody tr th:only-of-type {\n",
       "        vertical-align: middle;\n",
       "    }\n",
       "\n",
       "    .dataframe tbody tr th {\n",
       "        vertical-align: top;\n",
       "    }\n",
       "\n",
       "    .dataframe thead th {\n",
       "        text-align: right;\n",
       "    }\n",
       "</style>\n",
       "<table border=\"1\" class=\"dataframe\">\n",
       "  <thead>\n",
       "    <tr style=\"text-align: right;\">\n",
       "      <th></th>\n",
       "      <th>Name</th>\n",
       "      <th>Age</th>\n",
       "      <th>Section</th>\n",
       "      <th>ROll-No</th>\n",
       "      <th>Class</th>\n",
       "    </tr>\n",
       "  </thead>\n",
       "  <tbody>\n",
       "    <tr>\n",
       "      <th>1</th>\n",
       "      <td>Kkavya</td>\n",
       "      <td>20</td>\n",
       "      <td>A</td>\n",
       "      <td>28</td>\n",
       "      <td>12</td>\n",
       "    </tr>\n",
       "  </tbody>\n",
       "</table>\n",
       "</div>"
      ],
      "text/plain": [
       "     Name  Age Section  ROll-No  Class\n",
       "1  Kkavya   20       A       28     12"
      ]
     },
     "metadata": {},
     "output_type": "display_data"
    }
   ],
   "source": [
    "display(store_records('Aaryan',20,'A',26,12))\n",
    "display(store_records('Krishna',20,'A',27,12))\n",
    "display(store_records('Kkavya',20,'A',28,12))"
   ]
  },
  {
   "cell_type": "code",
   "execution_count": 70,
   "id": "a6c407fa-6c85-41f5-9963-187ade1c485e",
   "metadata": {},
   "outputs": [],
   "source": [
    "def student_records(**kwargs):\n",
    "    print(kwargs)\n",
    "    import pandas as pd\n",
    "    try:\n",
    "        result = pd.DataFrame(kwargs)\n",
    "        return result\n",
    "    except:\n",
    "         result = pd.DataFrame(kwargs)\n",
    "         return result\n",
    "        "
   ]
  },
  {
   "cell_type": "code",
   "execution_count": 73,
   "id": "39487cbc-d20c-426b-936b-33efdac589e0",
   "metadata": {},
   "outputs": [
    {
     "ename": "SyntaxError",
     "evalue": "closing parenthesis ')' does not match opening parenthesis '[' on line 1 (196811824.py, line 4)",
     "output_type": "error",
     "traceback": [
      "\u001b[1;36m  Cell \u001b[1;32mIn[73], line 4\u001b[1;36m\u001b[0m\n\u001b[1;33m    Address= ['Delhi','Noida'])\u001b[0m\n\u001b[1;37m                              ^\u001b[0m\n\u001b[1;31mSyntaxError\u001b[0m\u001b[1;31m:\u001b[0m closing parenthesis ')' does not match opening parenthesis '[' on line 1\n"
     ]
    }
   ],
   "source": [
    "student_records(Name = ['Ayan','B', \n",
    "                Age = [20,12] \n",
    "                Roll_No = [85,90 ]\n",
    "                Address= ['Delhi','Noida'])"
   ]
  },
  {
   "cell_type": "code",
   "execution_count": null,
   "id": "f5e8389c-a76e-4643-aa10-68ccfdeac3be",
   "metadata": {},
   "outputs": [],
   "source": []
  }
 ],
 "metadata": {
  "kernelspec": {
   "display_name": "Python 3 (ipykernel)",
   "language": "python",
   "name": "python3"
  },
  "language_info": {
   "codemirror_mode": {
    "name": "ipython",
    "version": 3
   },
   "file_extension": ".py",
   "mimetype": "text/x-python",
   "name": "python",
   "nbconvert_exporter": "python",
   "pygments_lexer": "ipython3",
   "version": "3.13.5"
  }
 },
 "nbformat": 4,
 "nbformat_minor": 5
}
